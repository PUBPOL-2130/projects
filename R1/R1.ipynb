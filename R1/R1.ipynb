{
  "cells": [
    {
      "cell_type": "markdown",
      "source": [
        "# **Motown Mo’ Buses!**\n",
        "## *Effects of Historic Redlining on Transit Access and Employment in Motown*\n",
        "Amelia Garcia (agg76), Abduljellil Hamid (ahh87), Dominic Martinelli (ddm94), Ben Perl (bdp58), Izzy Prager (ikp5)"
      ],
      "metadata": {
        "id": "21R7EnN67A44"
      }
    },
    {
      "cell_type": "markdown",
      "source": [
        "# Dependencies, Configs, Imports, Datasets"
      ],
      "metadata": {
        "id": "lVPBGYPjJF3k"
      }
    },
    {
      "cell_type": "markdown",
      "source": [
        "## Configs"
      ],
      "metadata": {
        "id": "DQRKwJuxJOX1"
      }
    },
    {
      "cell_type": "code",
      "source": [
        "%config InlineBackend.figure_formats = [\"retina\"]"
      ],
      "metadata": {
        "id": "rqJDjSlfJRTU"
      },
      "execution_count": 1,
      "outputs": []
    },
    {
      "cell_type": "markdown",
      "source": [
        "## Packages/Dependencies"
      ],
      "metadata": {
        "id": "fn_gJx7NJZC4"
      }
    },
    {
      "cell_type": "code",
      "source": [
        "!pip install -q osmnx descartes scikit-learn seaborn census pandas requests matplotlib geopandas gdown selenium folium\n",
        "\n",
        "# Download the motor businesses file from Google Drive\n",
        "#!gdown --id 1ylPscnouYGm7STGO1kyx0n6QvxQZF3xc --output motor_businesses_all_f.csv"
      ],
      "metadata": {
        "id": "PiV3_6D1Je8j"
      },
      "execution_count": null,
      "outputs": []
    },
    {
      "cell_type": "markdown",
      "metadata": {
        "id": "-GaMY5_DlFXN"
      },
      "source": [
        "## Imports"
      ]
    },
    {
      "cell_type": "code",
      "execution_count": null,
      "metadata": {
        "id": "PeqRQmXOhJK1"
      },
      "outputs": [],
      "source": [
        "import numpy as np\n",
        "import pandas as pd\n",
        "import geopandas as gpd\n",
        "import seaborn as sns\n",
        "import folium\n",
        "import requests\n",
        "import io\n",
        "from PIL import Image\n",
        "import selenium\n",
        "\n",
        "from matplotlib import pyplot as plt\n",
        "from matplotlib import lines as mlines\n",
        "from folium import GeoJson\n",
        "from shapely.geometry import mapping, Point, LineString, Polygon\n",
        "\n",
        "import networkx as nx\n",
        "import osmnx as ox\n",
        "\n",
        "from tqdm import tqdm\n",
        "from descartes import PolygonPatch\n",
        "from joblib import Parallel, delayed\n",
        "\n",
        "from branca.utilities import color_brewer\n",
        "from census import Census\n",
        "\n",
        "from shapely.ops import unary_union\n",
        "\n",
        "from sklearn.linear_model import LinearRegression"
      ]
    },
    {
      "cell_type": "markdown",
      "metadata": {
        "id": "YJxpgLd-lefv"
      },
      "source": [
        "## API Calls/Dataset Reads"
      ]
    },
    {
      "cell_type": "code",
      "execution_count": null,
      "metadata": {
        "id": "EbxtUQfGlnh6"
      },
      "outputs": [],
      "source": [
        "# Detroit DoT Bus Routes\n",
        "ddot_routes_url = \"https://services2.arcgis.com/qvkbeam7Wirps6zC/arcgis/rest/services/DDOT_Bus_Routes/FeatureServer/0/query?outFields=*&where=1%3D1&f=geojson\"\n",
        "ddot_stops_url = \"https://services2.arcgis.com/qvkbeam7Wirps6zC/arcgis/rest/services/DDOT_Bus_Stops/FeatureServer/0/query?outFields=*&where=1%3D1&f=geojson\"\n",
        "\n",
        "ddot_routes = gpd.read_file(ddot_routes_url)\n",
        "ddot_stops = gpd.read_file(ddot_stops_url)\n",
        "\n",
        "counties=[\"099\",\"125\",\"163\"]\n",
        "\n",
        "!curl -O -L https://www2.census.gov/geo/tiger/TIGER2022/TRACT/tl_2022_26_tract.zip\n",
        "\n",
        "!unzip tl_2022_26_tract.zip\n",
        "\n",
        "michigan_tract_gdf=gpd.read_file(\"tl_2022_26_tract.shp\")\n",
        "\n",
        "#mi_tract_gdf = gpd.read_file(\"https://www2.census.gov/geo/tiger/TIGER2020/TRACT/tl_2020_26_tract.zip\").set_index(\"GEOID\").to_crs(\"EPSG:2163\")\n",
        "detroit_tract_gdf = michigan_tract_gdf[michigan_tract_gdf.STATEFP == \"26\"]\n",
        "detroit_tract_gdf = detroit_tract_gdf[detroit_tract_gdf.COUNTYFP.isin(counties)]\n",
        "wayne_tract_gdf = michigan_tract_gdf[michigan_tract_gdf.STATEFP == \"26\"]\n",
        "wayne_tract_gdf = wayne_tract_gdf[wayne_tract_gdf.COUNTYFP.isin(counties)]\n",
        "detroit_outline = gpd.read_file(\"https://services2.arcgis.com/qvkbeam7Wirps6zC/arcgis/rest/services/City_of_Detroit_Boundary/FeatureServer/0/query?outFields=*&where=1%3D1&f=geojson\")\n",
        "\n",
        "census = Census(\"\", year=2020)\n",
        "areas_gdf = gpd.read_file(\"https://dsl.richmond.edu/panorama/redlining/static/mappinginequality.gpkg\")\n",
        "hri_gdf = gpd.read_file(\"https://raw.githubusercontent.com/PUBPOL-2130/notebooks/refs/heads/main/data/HRI2020.zip\")\n",
        "\n",
        "# read the CSV file\n",
        "!curl -L -o motor_businesses_all_f.csv.zip https://github.com/PUBPOL-2130/projects/raw/main/R1/motor_businesses_all_f.csv.zip\n",
        "!unzip -o motor_businesses_all_f.csv.zip -d motor_data\n",
        "motor_businesses = pd.read_csv(\"motor_data/motor_businesses_all_f.csv\")"
      ]
    },
    {
      "cell_type": "markdown",
      "metadata": {
        "id": "oMU542XNuRpV"
      },
      "source": [
        "#Redlining in Detroit"
      ]
    },
    {
      "cell_type": "code",
      "execution_count": null,
      "metadata": {
        "id": "ACPHdJQaseFg"
      },
      "outputs": [],
      "source": [
        "\n",
        "#looking at Detroit redlining\n",
        "detroit_areas_gdf = areas_gdf[(areas_gdf[\"city\"] == \"Detroit\")].copy() #select for Detroit within larger gdf\n",
        "grade_to_score = {\"A\": 4, \"B\": 3, \"C\": 2, \"D\": 1} #assign numerical values to redlining scores\n",
        "detroit_areas_gdf[\"score\"] = detroit_areas_gdf[\"grade\"].map(grade_to_score)\n",
        "\n",
        "#create  visual with updated Detroit coordinates\n",
        "detroit_hri_map = folium.Map([42.3314, -83.0458], zoom_start=10, tiles=\"CartoDB positron\") #changed basemap to make background less busy\n",
        "detroit_chloro = folium.Choropleth( #create chloropleth!\n",
        "    geo_data=detroit_areas_gdf,\n",
        "    name=\"choropleth\",\n",
        "    data=detroit_areas_gdf,\n",
        "    columns=[\"area_id\", \"score\"],\n",
        "    key_on=\"feature.properties.area_id\",\n",
        "    fill_color=\"OrRd_r\", #orange to red gradient to make risk intuitive\n",
        "    fill_opacity=0.7,\n",
        "    line_opacity=0.2,\n",
        "    nan_fill_color=\"pink\",  #color doesn't actually matter here because of next code line!\n",
        "    nan_fill_opacity=0.0,  #prevent folium from filling areas with no data as black\n",
        "    legend_name=\"Historic Redlining Indicator\",\n",
        ")\n",
        "\n",
        "detroit_chloro.color_scale.colors = list(reversed(detroit_chloro.color_scale.colors))\n",
        "detroit_chloro.add_to(detroit_hri_map)\n",
        "\n",
        "#visualize data!\n",
        "detroit_hri_map\n"
      ]
    },
    {
      "cell_type": "code",
      "source": [
        "#load race variables\n",
        "race_vars = {\n",
        "    \"P1_003N\": \"white\",   # white pop\n",
        "    \"P1_004N\": \"black\",   # black pop\n",
        "    \"P1_001N\": \"total\"    # total pop\n",
        "}\n",
        "\n",
        "#create race dataframe\n",
        "race_data = census.pl.get(\n",
        "    list(race_vars.keys()),\n",
        "    geo={\n",
        "        \"for\": \"tract:*\", # all tracts\n",
        "        \"in\": \"state:26 county: 099,125,163\" # Michigan state and all counties that include Detroit (Wayne, Oakland, Macomb)\n",
        "    }\n",
        ")\n",
        "\n",
        "race_df = pd.DataFrame(race_data)\n",
        "race_df = race_df.set_index(\"tract\")\n",
        "race_df = race_df.rename(columns=race_vars) # gices columns nicer names\n",
        "\n",
        "# clean up dataframe to change index and match the tract column with the shapefile TRACTCE column\n",
        "race_df = race_df.reset_index()\n",
        "race_df = race_df.rename(columns={\"tract\": \"TRACTCE\"})\n",
        "\n",
        "#add a column for percent black population\n",
        "race_df[\"pct_black\"] = race_df[\"black\"] / race_df[\"total\"]\n",
        "\n",
        "#merge!\n",
        "detroit_race_gdf = wayne_tract_gdf.merge(race_df, on=\"TRACTCE\")\n",
        "\n",
        "\n",
        "#make chloropleth!\n",
        "ax = detroit_race_gdf.plot(figsize=(10, 10), column=\"pct_black\", cmap=\"OrRd\", legend=True)\n",
        "ax.axis(\"off\")\n",
        "ax.set_title(\"Black Population (%) in Detroit Area\")\n",
        "detroit_outline.boundary.plot(ax=ax, edgecolor=\"black\", linewidth=1.0); # this adds a boundary to visualize the Detroit city boundary\n",
        "\n",
        "plt.savefig(\"detroit_race.png\")"
      ],
      "metadata": {
        "id": "yNeygCBGWy3c"
      },
      "execution_count": null,
      "outputs": []
    },
    {
      "cell_type": "markdown",
      "metadata": {
        "id": "CPev5q5RT7GS"
      },
      "source": [
        "##**Car Ownership**\n"
      ]
    },
    {
      "cell_type": "code",
      "source": [
        "#importing acs variables\n",
        "detroit_transportation = census.acs5.get(\n",
        "    (\n",
        "        # Means of Transportation to Work – Total\n",
        "        \"B08301_001E\",\n",
        "        # Means of Transportation to Work – Total – Public transportation (excluding taxicab) – Subway or elevated rail\n",
        "        \"B08301_011E\",\n",
        "        #Means of transportation to work - Total - Car, truck, or van\n",
        "        \"B08301_002E\",\n",
        "        #public transit- Black or African American\n",
        "        \"B08505B_004E\",\n",
        "        #total - Black or African American\n",
        "        \"B08505B_001E\",\n",
        "        #car truck or van, drove alone - Black or African American\n",
        "        \"B08505B_002E\",\n",
        "        #car truck or van, carpooled - Black or African American\n",
        "        \"B08505B_003E\",\n",
        "        #household by number of vehicles available- total\n",
        "        \"B08201_001E\",\n",
        "        #no vehicle available\n",
        "        \"B08201_002E\",\n",
        "        #1 vehicle available\n",
        "        \"B08201_003E\",\n",
        "        #2 vehicles available\n",
        "        \"B08201_004E\",\n",
        "        #3 vehicles available\n",
        "        \"B08201_005E\",\n",
        "        #4+ vehicles available\n",
        "        \"B08201_006E\",\n",
        "        #total civilian employed population 16+\n",
        "        \"C24030_001E\",\n",
        "        #male finance population\n",
        "        \"C24030_014E\",\n",
        "        #male healthcare\n",
        "        \"C24030_023E\",\n",
        "        #male manufacturing\n",
        "        \"C24030_007E\",\n",
        "        #male tech services\n",
        "        \"C24030_018E\",\n",
        "        #female manufacturing\n",
        "        \"C24030_034E\",\n",
        "        #female finance\n",
        "        \"C24030_041E\",\n",
        "        #female tech services\n",
        "        \"C24030_045E\",\n",
        "        #female healthcare\n",
        "        \"C24030_050E\",\n",
        "        #white population\n",
        "        \"B02001_002E\",\n",
        "        #total pop\n",
        "        \"B02001_001E\",\n",
        "        #median income\n",
        "        \"B19326_001E\",\n",
        "        ),\n",
        "    geo={\n",
        "        \"for\": \"tract:*\",\n",
        "        \"in\": f\"state:26 county:099,125,163\",\n",
        "    },\n",
        "    year=2022,\n",
        ")"
      ],
      "metadata": {
        "id": "6sghonRBdQRl"
      },
      "execution_count": null,
      "outputs": []
    },
    {
      "cell_type": "code",
      "source": [
        "#renaming acs variable to be understandable\n",
        "detroit_transportation = pd.DataFrame(detroit_transportation).rename(\n",
        "    columns={\n",
        "        \"B08301_001E\": \"commuter_count\",\n",
        "        \"B08301_011E\": \"bus_commuter_count\",\n",
        "        \"B08301_002E\": \"car_commuter_count\",\n",
        "        # \"B08505B_004\": \"black_transit_commuter_count\",\n",
        "        # \"B08505B_001E\": \"black_count\",\n",
        "        # \"B08505B_002E\": \"black_car_commuter_count\",\n",
        "        # \"B08505B_003E\": \"black_carpool_commuter_count\",\n",
        "        # NOTE: these weren't coded correctly for the API and returned columns entirely populated by null values\n",
        "\n",
        "        \"B08105B_004E\": \"black_transit_commuter_count\",\n",
        "        \"B08105B_001E\": \"black_count\",\n",
        "        \"B08105B_002E\": \"black_car_commuter_count\",\n",
        "        \"B08105B_003E\": \"black_carpool_commuter_count\",\n",
        "\n",
        "\n",
        "        \"B08201_001E\": \"vehicle_count_total\",\n",
        "        \"B08201_002E\": \"no_vehicle_count\",\n",
        "        \"B08201_003E\": \"one_vehicle_count\",\n",
        "        \"B08201_004E\": \"two_vehicle_count\",\n",
        "        \"B08201_005E\": \"three_vehicle_count\",\n",
        "        \"B08201_006E\": \"four_vehicle_count\",\n",
        "        \"C24030_001E\": \"employed_count\",\n",
        "        \"C24030_014E\": \"male_finance_count\",\n",
        "        \"C24030_023E\": \"male_healthcare_count\",\n",
        "        \"C24030_007E\": \"male_manufacturing_count\",\n",
        "        \"C24030_018E\": \"male_tech_services_count\",\n",
        "        \"C24030_034E\": \"female_manufacturing_count\",\n",
        "        \"C24030_041E\": \"female_finance_count\",\n",
        "        \"C24030_045E\": \"female_tech_services_count\",\n",
        "        \"C24030_050E\": \"female_healthcare_count\",\n",
        "        \"B02001_002E\": \"white_count\",\n",
        "        \"B02001_001E\": \"total_count\",\n",
        "        \"B08133_001E\": \"aggregate_commute_time_min\",\n",
        "        \"B19326_001E\": \"median_income\",\n",
        "    }\n",
        ")"
      ],
      "metadata": {
        "id": "5BgPuRL-PN5l"
      },
      "execution_count": null,
      "outputs": []
    },
    {
      "cell_type": "code",
      "source": [
        "#new column based on if you have a vehicle in general (summing)\n",
        "detroit_transportation['have_vehicle'] = detroit_transportation['one_vehicle_count'] + detroit_transportation['two_vehicle_count'] + detroit_transportation['three_vehicle_count'] + detroit_transportation['four_vehicle_count']\n",
        "#taking have_vehicle and dividing by total population for percent\n",
        "detroit_transportation['vehicle_pct']=100*detroit_transportation['have_vehicle']/detroit_transportation['vehicle_count_total']\n",
        "#percent of population without vehicle\n",
        "detroit_transportation['no_vehicle_pct']=100*detroit_transportation['no_vehicle_count']/detroit_transportation['vehicle_count_total']"
      ],
      "metadata": {
        "id": "LYV87zLrwU21"
      },
      "execution_count": null,
      "outputs": []
    },
    {
      "cell_type": "code",
      "source": [
        "#dividing geoid column to get more granular info\n",
        "detroit_transportation[\"GEOID\"] = (\n",
        "    detroit_transportation[\"state\"]\n",
        "    + detroit_transportation[\"county\"]\n",
        "    + detroit_transportation[\"tract\"]\n",
        ")\n",
        "detroit_transportation = detroit_transportation.set_index(\"GEOID\")\n",
        "\n",
        "#percent of pop using buses to commute\n",
        "detroit_transportation[\"bus_pct\"] = 100 * detroit_transportation[\"bus_commuter_count\"] / detroit_transportation[\"commuter_count\"]"
      ],
      "metadata": {
        "id": "z5b77rlbli2E"
      },
      "execution_count": null,
      "outputs": []
    },
    {
      "cell_type": "code",
      "source": [
        "#removing some zero values\n",
        "detroit_transportation = detroit_transportation[detroit_transportation.commuter_count > 0]"
      ],
      "metadata": {
        "id": "SyIseX6TmyHt"
      },
      "execution_count": null,
      "outputs": []
    },
    {
      "cell_type": "markdown",
      "metadata": {
        "id": "3JU27MAtNnkI"
      },
      "source": [
        "##**Employment**"
      ]
    },
    {
      "cell_type": "markdown",
      "source": [
        "### ACS plots"
      ],
      "metadata": {
        "id": "j4TDSgvu-Hs8"
      }
    },
    {
      "cell_type": "code",
      "source": [
        "# ---- Step 1: API Query Function ----\n",
        "\n",
        "def query_sld(fields, state_fips='26'):\n",
        "    url = \"https://geodata.epa.gov/arcgis/rest/services/OA/SmartLocationDatabase/MapServer/1/query\"\n",
        "    params = {\n",
        "        \"where\": f\"STATEFP='{state_fips}' AND (COUNTYFP='099' OR COUNTYFP='125' OR COUNTYFP='163')\",\n",
        "        \"outFields\": \",\".join(fields),\n",
        "        \"returnGeometry\": \"false\",\n",
        "        \"f\": \"json\"\n",
        "    }\n",
        "    response = requests.get(url, params=params)\n",
        "    features = response.json()['features']\n",
        "    attributes = [f['attributes'] for f in features]\n",
        "    return pd.DataFrame(attributes)\n",
        "\n",
        "# ---- Step 2: Pull the Data ----\n",
        "# Not including ACS variables, already pulled those\n",
        "\n",
        "fields_of_interest = {\"GEOID20\":\"GEOID20\",\n",
        "                      \"TRACTCE\": \"tract\",\n",
        "                      #\"C_R_White\":\"% White in County\",\n",
        "                      \"D5DRI\": \"Transit Job Accessibility\",\n",
        "                      \"D5CRI\": \"Car Job Accessibility\",\n",
        "\n",
        "                      \"D5DR\": \"Transit Job Accessibility2\",\n",
        "                      \"D5CR\": \"Car Job Accessibility2\",\n",
        "\n",
        "                      \"D4B025\": \"Proportion of CBG employment within ¼ mile of fixed-guideway transit stop\",\n",
        "\n",
        "                      \"E5_Svc\": \"Service Jobs\",\n",
        "                       \"E5_Ind\": \"Industrial Jobs\",\n",
        "                       \"E5_Ret\": \"Retail Jobs\",\n",
        "                      'E8_Hlth':'Healthcare Jobs',\n",
        "\n",
        "\n",
        "                      \"E_PctLowWage\": \"% Low Wage Workers\",\n",
        "                      \"Pct_AO0\": \"% Zero-Car Households\",\n",
        "\n",
        "                      'D2R_JOBPOP':'Regional Diversity',\n",
        "\n",
        "                      'D3AAO':'Car-oriented road networks',\n",
        "                      'D3APO':'Pedestrian-oriented road networks',\n",
        "\n",
        "                      'D4A': 'Distance from nearest transit stop (m)'\n",
        "\n",
        "                      }\n"
      ],
      "metadata": {
        "id": "aLXarx0m7F5A"
      },
      "execution_count": null,
      "outputs": []
    },
    {
      "cell_type": "code",
      "source": [
        "#pulling variables from dataset and saving them\n",
        "sld_df=query_sld(list(fields_of_interest.keys()))"
      ],
      "metadata": {
        "id": "mYzykPCaRRo9"
      },
      "execution_count": null,
      "outputs": []
    },
    {
      "cell_type": "code",
      "source": [
        "#doing away w gross column names\n",
        "sld_df= sld_df.rename(columns=fields_of_interest)\n"
      ],
      "metadata": {
        "id": "woSBWrSYRYmP"
      },
      "execution_count": null,
      "outputs": []
    },
    {
      "cell_type": "code",
      "source": [
        "#more renaming\n",
        "sld_df=sld_df.rename(columns={\"GEOID20\":\"GEOID\", \"tract\":\"TRACTCE\"})\n",
        "\n"
      ],
      "metadata": {
        "id": "JeCR_29URarU"
      },
      "execution_count": null,
      "outputs": []
    },
    {
      "cell_type": "code",
      "source": [
        "#joining with detroit gdf to have everything in the same place\n",
        "detroit_transportation_gdf = detroit_tract_gdf.join(detroit_transportation)\n"
      ],
      "metadata": {
        "id": "0p4HJu73Rxq-"
      },
      "execution_count": null,
      "outputs": []
    },
    {
      "cell_type": "code",
      "source": [
        "#adding new dataframe to gdf\n",
        "detroit_epa_gdf =  sld_df.merge(detroit_transportation_gdf, on = 'TRACTCE', how = 'inner')"
      ],
      "metadata": {
        "id": "l87LxOfJRrR4"
      },
      "execution_count": null,
      "outputs": []
    },
    {
      "cell_type": "code",
      "source": [
        "detroit_epa_gdf"
      ],
      "metadata": {
        "id": "Q1-lbZcIRi5m"
      },
      "execution_count": null,
      "outputs": []
    },
    {
      "cell_type": "code",
      "source": [
        "from matplotlib import colors\n",
        "import matplotlib.cm as cm\n",
        "\n",
        "\n",
        "\n",
        "# build the ScalarMappable\n",
        "\n",
        "var1 = 'Transit Job Accessibility'\n",
        "var2 = 'Car Job Accessibility'\n",
        "df = gpd.GeoDataFrame(\n",
        "    detroit_epa_gdf[(detroit_epa_gdf[var1] > -99999.0)],\n",
        "    geometry='geometry'\n",
        ")\n",
        "\n",
        "# pick a common vmin/vmax (or whatever range you like)\n",
        "vmin = min(df[var1].min(), df[var2].min())\n",
        "vmax = max(df[var1].max(), df[var2].max())\n",
        "norm = colors.Normalize(vmin=vmin, vmax=vmax)\n",
        "sm = cm.ScalarMappable(norm=norm, cmap='viridis')\n",
        "sm.set_array([])\n",
        "# create a 1×2 figure, share x & y so both maps use the same extents\n",
        "fig, (ax1, ax2) = plt.subplots(\n",
        "    1, 2,\n",
        "    figsize=(6, 3),\n",
        "    sharex=True, sharey=True\n",
        ")\n",
        "\n",
        "# left: Car\n",
        "df.plot(\n",
        "    column=var2,\n",
        "    cmap='viridis',\n",
        "    legend=False,\n",
        "    ax=ax1\n",
        ")\n",
        "ax1.set_title(\"Job Accessibility by Car\\n(EPA Index)\")\n",
        "\n",
        "# right: Transit\n",
        "df.plot(\n",
        "    column=var1,\n",
        "    cmap='viridis',\n",
        "    legend=False,\n",
        "    ax=ax2\n",
        ")\n",
        "ax2.set_title(\"Job Accessibility by Transit\\n(EPA Index)\")\n",
        "\n",
        "# remove all ticks & tick‐labels on both axes\n",
        "for ax in (ax1, ax2):\n",
        "    ax.tick_params(\n",
        "        axis='both',\n",
        "        which='both',\n",
        "        bottom=False,    # no x‐ticks\n",
        "        left=False,      # no y‐ticks\n",
        "        labelbottom=False,\n",
        "        labelleft=False\n",
        "    )\n",
        "\n",
        "cbar = fig.colorbar(\n",
        "    sm,\n",
        "    ax=[ax1, ax2],\n",
        "    orientation='vertical',\n",
        "    fraction=0.05,\n",
        "    pad=0.06\n",
        ")\n",
        "cbar.set_label(\"EPA Index\", rotation=90, labelpad=9)\n",
        "\n",
        "plt.show()"
      ],
      "metadata": {
        "id": "rdZmC-Fnzeos"
      },
      "execution_count": null,
      "outputs": []
    },
    {
      "cell_type": "code",
      "source": [
        "var ='Distance from nearest transit stop (m)'\n",
        "\n",
        "df_no_outliers = detroit_epa_gdf[(detroit_epa_gdf[f\"{var}\"] >min(detroit_epa_gdf[f\"{var}\"]))]\n",
        "df_no_outliers = detroit_epa_gdf[(detroit_epa_gdf[f\"{var}\"] > -99999.0) ]\n",
        "df_no_outliers = gpd.GeoDataFrame(df_no_outliers, geometry='geometry')\n",
        "ax = df_no_outliers.plot(figsize=(4, 4), column=f\"{var}\", legend=True, cmap='viridis', legend_kwds={'pad':0.2})\n",
        "ax.axis(\"off\")\n",
        "ax.set_title(f\"Distance from nearest transit stop (m)\")\n",
        "plt.show()"
      ],
      "metadata": {
        "id": "jDsBVQQsOSNY"
      },
      "execution_count": null,
      "outputs": []
    },
    {
      "cell_type": "markdown",
      "source": [
        "<div>\n",
        "<img src='https://drive.google.com/uc?id=1dwnmoKiP2_fghBPzMIOwEFUIfTm3OyS2' width=\"300\"> <img src='https://drive.google.com/uc?id=1Tm51ygOA-G0wEEsrfYF3vIS3EFI345nE' width=\"300\">\n",
        "</div>\n",
        "<div>\n",
        "<img src='https://drive.google.com/uc?id=11Fg703FoEuH-vDHOZA2NEZv22XlvyNSq' width=\"300\">\n",
        "</div>\n",
        "\n",
        "<div>\n",
        "<img src='https://drive.google.com/uc?id=1dwnmoKiP2_fghBPzMIOwEFUIfTm3OyS2' width=\"300\">\n",
        "</div>"
      ],
      "metadata": {
        "id": "lgW9fFJA9kCO"
      }
    },
    {
      "cell_type": "code",
      "source": [
        "# Define the bins\n",
        "bins = [0, 0.25, 0.50, 0.75, 1]\n",
        "\n",
        "var1 = 'Car Job Accessibility'\n",
        "var2 = '% Zero-Car Households'\n",
        "print(min(detroit_epa_gdf[f\"{var1}\"]))\n",
        "print(min(detroit_epa_gdf[f\"{var2}\"]))\n",
        "\n",
        "print(min(detroit_epa_gdf[f'{var1}']))\n",
        "\n",
        "# # Bin the first variable\n",
        "\n",
        "detroit_epa_gdf[f'{var1}_class'] = pd.qcut(detroit_epa_gdf[f'{var1}'], q=4, labels = np.arange(1, int(len(bins))).astype(str))\n",
        "\n",
        "detroit_epa_gdf[f'{var1}_class'] = detroit_epa_gdf[f'{var1}_class'].astype('str')\n",
        "\n",
        "# Bin the second variable\n",
        "detroit_epa_gdf[f'{var2}_class'] = pd.qcut(detroit_epa_gdf[f'{var2}'], q= 4, labels = np.arange(1, int(len(bins))).astype(str))\n",
        "\n",
        "#pd.qcut(detroit_epa_gdf[f'{var2}'], q=4, labels = np.arange(1, int(len(bins))).astype(str))\n",
        "detroit_epa_gdf[f'{var2}_class'] = detroit_epa_gdf[f'{var2}_class'] = detroit_epa_gdf[f'{var2}_class'].astype('str')\n",
        "\n"
      ],
      "metadata": {
        "id": "G6DV0F7LsFk0"
      },
      "execution_count": null,
      "outputs": []
    },
    {
      "cell_type": "code",
      "source": [
        "pd.cut(detroit_epa_gdf[f'{var2}'], bins= 5, labels = np.arange(1, int(len(bins)+1)).astype(str)) #.value_counts()\n",
        "\n",
        "#detroit_epa_gdf[f'{var1}']"
      ],
      "metadata": {
        "id": "X6v63-w57smo"
      },
      "execution_count": null,
      "outputs": []
    },
    {
      "cell_type": "code",
      "source": [
        "# Code created x bins to 1, 2, 3\n",
        "x_class_codes = np.arange(1, len(bins))\n",
        "d = dict(zip(detroit_epa_gdf[f'{var1}_class'].value_counts().sort_index().index, x_class_codes))\n",
        "detroit_epa_gdf[f'{var1}_class'] = detroit_epa_gdf[f'{var1}_class'].replace(d)\n",
        "\n",
        "# Code created y bins to A, B, C\n",
        "y_class_codes = np.arange(1, len(bins))\n",
        "d = dict(zip(detroit_epa_gdf[f'{var2}_class'].value_counts().sort_index().index, y_class_codes))\n",
        "detroit_epa_gdf[f'{var2}_class'] = detroit_epa_gdf[f'{var2}_class'].replace(d)\n",
        "\n",
        "# Combine x and y codes to create Bi_Class\n",
        "detroit_epa_gdf['Bi_Class'] = detroit_epa_gdf[f'{var1}_class'].astype('str') + detroit_epa_gdf[f'{var2}_class'].astype('str')"
      ],
      "metadata": {
        "id": "MOtWw6CI2PRo"
      },
      "execution_count": null,
      "outputs": []
    },
    {
      "cell_type": "code",
      "source": [
        "detroit_epa_gdf[f'{var2}_class'].value_counts()"
      ],
      "metadata": {
        "id": "RCh1N-wn_Mc_"
      },
      "execution_count": null,
      "outputs": []
    },
    {
      "cell_type": "code",
      "source": [
        "detroit_epa_gdf.columns"
      ],
      "metadata": {
        "id": "CX3fPTEx_cNn"
      },
      "execution_count": null,
      "outputs": []
    },
    {
      "cell_type": "code",
      "source": [
        "#from matplotlib import colors\n",
        "hex_colors = [\n",
        "    \"#fffbf5\", \"#fce4f3\", \"#f0b9e1\", \"#d889c4\",\n",
        "    \"#e4fbf2\", \"#d7dae8\", \"#c2acd0\", \"#a376ad\",\n",
        "    \"#c4f5ed\", \"#b3cede\", \"#969abe\", \"#6e6091\",\n",
        "    \"#a1ede6\", \"#8abfd1\", \"#6e88ad\", \"#41456d\"\n",
        "]\n",
        "cmap  = colors.ListedColormap(hex_colors)"
      ],
      "metadata": {
        "id": "x8q2PFQhy5EB"
      },
      "execution_count": null,
      "outputs": []
    },
    {
      "cell_type": "code",
      "source": [
        "from matplotlib.patches import Patch\n",
        "import numpy as np\n",
        "import matplotlib.pyplot as plt\n",
        "from matplotlib.colors import to_rgb\n",
        "from mpl_toolkits.axes_grid1.inset_locator import inset_axes\n",
        "\n",
        "var = 'Bi_Class'\n",
        "df_no_outliers = detroit_epa_gdf #[(detroit_epa_gdf[f\"{var}\"] > -99999.0) ]\n",
        "df_no_outliers = gpd.GeoDataFrame(df_no_outliers, geometry='geometry')\n",
        "ax = df_no_outliers.plot(figsize=(4, 4), column=f\"{var}\", legend=False, cmap = cmap) # cmap='viridis')\n",
        "ax.axis(\"off\")\n",
        "ax.set_title(f\"Spatial Mismatch: \\nDisparities in Car Ownership \\n Enforce Inequitable Job Access\")\n",
        "\n",
        "# Convert to an (4,4,3) RGB array\n",
        "rgb = np.array([to_rgb(c) for c in hex_colors])\n",
        "grid = rgb.reshape((4, 4, 3))\n",
        "\n",
        "# now inset the 4×4 legend at upper right:\n",
        "ax_leg = inset_axes(ax,\n",
        "                    width=\"25%\", height=\"25%\",\n",
        "                    loc='lower right',\n",
        "                    bbox_to_anchor=(.3, 0.1, 1, 1.2),      # x, y in axes-fraction coordinates\n",
        "    bbox_transform=ax.transAxes,\n",
        "                    borderpad=0)\n",
        "\n",
        "ax_leg.imshow(grid, origin='lower', extent=[0,100,0,100])\n",
        "ax_leg.set_xticks([0,25,50,75,100])\n",
        "ax_leg.set_yticks([0,25,50,75,100])\n",
        "ax_leg.tick_params(left=False, bottom=False, labelsize=8)\n",
        "ax_leg.set_ylabel(\"% zero-car \\n households →\", fontsize=8, labelpad=2)\n",
        "ax_leg.set_xlabel(\"↑ accessibility of \\njob sites (by car)\", fontsize=8, labelpad=2)\n",
        "ax_leg.spines[:].set_visible(False)\n",
        "plt.show()"
      ],
      "metadata": {
        "id": "6H56gpNasFy4"
      },
      "execution_count": null,
      "outputs": []
    },
    {
      "cell_type": "markdown",
      "source": [
        "For this part of the project, We wanted to show where the major car companies in Detroit are located, and how big they are based on how many people they employ. We used data that lists different motor businesses and filtered it down to only Ford, GM, and FCA, the companies that are usually called the \"Detroit Three.\" We removed any companies that had zero employees, because the goal was to highlight where the jobs really are.\n",
        "To visualize this,we  created a map of Detroit using Folium. We also used colored circles to show where each company’s site is located. The size of each circle depends on how many local employees work there, so the bigger the dot, the more people that company employs at that spot. Each company has its own color GM is turquoise, FCA is lemonchiffon, and Ford is lavender. We also added a popup to each dot, so when you click on it, you can see the name of the company and how many employees they have there.\n",
        "We included a legend in the bottom corner of the map so that it's easy to tell which color stands for which company. This map is part of a larger project we are working on about transportation, economic geography, and inequality in Detroit. By showing where these jobs are concentrated, it helps us to explain patterns of access, mobility, and even health in different parts of the city. It also gives a clear visual of how these big companies are spread across Detroit and how their presence might influence nearby communities.\n"
      ],
      "metadata": {
        "id": "DcZe-dEdBLtI"
      }
    },
    {
      "cell_type": "code",
      "source": [
        "# Let us filter only GM, FCA, and FORD with more than 0 employees\n",
        "d3 = motor_businesses[\n",
        "    (motor_businesses['D3'].isin(['GM', 'FCA', 'FORD'])) &\n",
        "    (motor_businesses['Total Employees'] > 0)\n",
        "]\n",
        "\n",
        "# Fill missing D3 values with 'Other'\n",
        "motor_businesses['D3'] = motor_businesses['D3'].fillna('Other')\n",
        "\n",
        "# Define custom colors for each company\n",
        "corp = {'GM': 'turquoise', 'FCA': 'lemonchiffon', 'FORD': 'lavender'}\n",
        "\n",
        "# Let us make the map and center it on Detroit\n",
        "detroit = folium.Map(location=[42.3314, -83.0468], zoom_start=9, tiles=\"CARTODB darkmatter\")\n",
        "\n",
        "# Now we plot the companies with bubbles — size shows employee count\n",
        "for _, site in d3.iterrows():\n",
        "    lat, lon = site['Latitude'], site['Longitude']\n",
        "    company = site['D3']\n",
        "    folium.CircleMarker(\n",
        "        location=[lat, lon],\n",
        "        radius=2 * np.log(site['Local Employees']),  # circle size depends on employees\n",
        "        fill=True,\n",
        "        fill_opacity=0.5,\n",
        "        opacity=1,\n",
        "        color=corp[company],\n",
        "        popup=f\"{company}, {int(site['Local Employees'])} employees\"  # show info when clicked\n",
        "    ).add_to(detroit)\n",
        "\n",
        "# Let us add the legend to explain what the colors mean\n",
        "legend_html = \"\"\"\n",
        "<div style=\"position: fixed;\n",
        "     bottom: 50px; left: 50px; width: 180px; height: 120px;\n",
        "     border:2px solid white; z-index:9999; font-size:14px;\n",
        "     background-color:grey; opacity: 0.8; color:white;\n",
        "     padding: 10px;\">\n",
        "     <b>Legend</b><br>\n",
        "     <i style=\"background:turquoise; width:10px; height:10px; float:left; margin-right:5px;\"></i> GM<br>\n",
        "     <i style=\"background:lemonchiffon; width:10px; height:10px; float:left; margin-right:5px;\"></i> FCA<br>\n",
        "     <i style=\"background:lavender; width:10px; height:10px; float:left; margin-right:5px;\"></i> FORD\n",
        "</div>\n",
        "\"\"\"\n",
        "detroit.get_root().html.add_child(folium.Element(legend_html))\n",
        "\n",
        "# Show the map\n",
        "img_data=detroit._to_png(5)\n",
        "img=Image.open(io.BytesIO(img_data))\n",
        "img.save('detroit_map.png')\n",
        "detroit\n"
      ],
      "metadata": {
        "id": "gRnf1aGHBJwz"
      },
      "execution_count": null,
      "outputs": []
    },
    {
      "cell_type": "markdown",
      "source": [
        "### Transportation Method Comparison: Driving vs Bus\n",
        "\n",
        "2 Key Employment Centers:\n",
        "\n",
        "\n",
        "1.   GM Tech Center, Warren, MI -> Suburban\n",
        "2.   Cadillac Place, Detroit, MI -> Urban\n",
        "\n"
      ],
      "metadata": {
        "id": "znXgIfQcRNjZ"
      }
    },
    {
      "cell_type": "code",
      "source": [
        "# Loosely based on Week 9 notebook\n",
        "# Init POIs and parameters (derived from motor_businesses)\n",
        "locations = [\n",
        "    {\"name\": \"GM Tech Center\", \"lat\": 42.508552, \"lon\": -83.039437},\n",
        "    {\"name\": \"GM Cadillac Place\",  \"lat\": 42.368748, \"lon\": -83.075383},\n",
        "]\n",
        "\n",
        "# Only car and bus now\n",
        "modes = [\"car\", \"bus\"]\n",
        "speeds = {\"car\": 2640, \"bus\": 1144}  # ft per minute\n",
        "trip_times = [15, 30, 60] # minutes\n",
        "iso_colors = ox.plot.get_colors(n=len(trip_times), cmap=\"plasma\", start=0)\n",
        "\n",
        "# Download & project ONE drive graph per POI\n",
        "buffer_dist = 20000  # meters\n",
        "graphs = {}\n",
        "for loc in locations:\n",
        "    G_drive = ox.graph_from_point(\n",
        "        (loc[\"lat\"], loc[\"lon\"]),\n",
        "        dist=buffer_dist,\n",
        "        network_type=\"drive\"\n",
        "    )\n",
        "    G_drive = ox.project_graph(G_drive, to_crs=\"epsg:2253\")\n",
        "    # Compute length ONCE\n",
        "    for u, v, k, data in G_drive.edges(keys=True, data=True):\n",
        "        data[\"length_ft\"] = data[\"length\"] * 3.28084\n",
        "    graphs[loc[\"name\"]] = G_drive\n",
        "\n",
        "# 2×2 grid (2 POIs × 2 modes)\n",
        "fig, axes = plt.subplots(2, 2, figsize=(16, 12), subplot_kw={\"xticks\": [], \"yticks\": []})\n",
        "buffer_ft = buffer_dist * 3.28084\n",
        "\n",
        "for i, loc in enumerate(locations):\n",
        "    G = graphs[loc[\"name\"]]\n",
        "    # Project POI ONCE\n",
        "    poi = (\n",
        "        gpd.GeoSeries([Point(loc[\"lon\"], loc[\"lat\"])], crs=\"EPSG:4326\")\n",
        "           .to_crs(G.graph[\"crs\"])\n",
        "           .iloc[0]\n",
        "    )\n",
        "    ego = ox.nearest_nodes(G, X=[poi.x], Y=[poi.y])[0]\n",
        "\n",
        "    for j, mode in enumerate(modes):\n",
        "        ax = axes[i][j]\n",
        "        spd = speeds[mode]\n",
        "\n",
        "        # Time BEFORE building the subgraph\n",
        "        for u, v, k, data in G.edges(keys=True, data=True):\n",
        "            data[\"time\"] = data[\"length_ft\"] / spd\n",
        "\n",
        "        # Ego‐graph & compute timed distances (Shoutout Dijkstra/2110)\n",
        "        max_t = max(trip_times)\n",
        "        big_sub = nx.ego_graph(G, ego, radius=max_t, distance=\"time\")\n",
        "        dist = nx.single_source_dijkstra_path_length(big_sub, ego, weight=\"time\")\n",
        "\n",
        "        # Convex‐hull isochrones based on that dist\n",
        "        hulls = {}\n",
        "        for t in trip_times:\n",
        "            pts = [\n",
        "                Point((big_sub.nodes[n][\"x\"], big_sub.nodes[n][\"y\"]))\n",
        "                for n, d in dist.items() if d <= t\n",
        "            ]\n",
        "            gs = gpd.GeoSeries(pts, crs=G.graph[\"crs\"])\n",
        "            hulls[t] = gs.union_all().convex_hull # Is union_all really the way?\n",
        "\n",
        "        # Plot bands\n",
        "        alpha = 0.4  # car/bus both semi‐transparent\n",
        "        for t, c in zip(sorted(trip_times, reverse=True), iso_colors[::-1]):\n",
        "            gpd.GeoSeries([hulls[t]], crs=G.graph[\"crs\"]) \\\n",
        "               .plot(ax=ax, color=c, alpha=alpha, linewidth=0)\n",
        "\n",
        "        # Roads on top\n",
        "        ox.plot_graph(\n",
        "            G, ax=ax, show=False, close=False,\n",
        "            edge_color=\"#333333\", edge_alpha=0.8,\n",
        "            edge_linewidth=0.5, node_size=0\n",
        "        )\n",
        "\n",
        "        # Mark & center\n",
        "        ax.scatter(poi.x, poi.y, marker=\"*\", color=\"black\", s=150)\n",
        "        ax.set_xlim(poi.x - buffer_ft, poi.x + buffer_ft)\n",
        "        ax.set_ylim(poi.y - buffer_ft, poi.y + buffer_ft)\n",
        "\n",
        "        ax.set_title(f\"{loc['name']}\\n({mode.capitalize()})\", fontsize=14)\n",
        "        ax.set_axis_off()\n",
        "\n",
        "# Legend\n",
        "handles = [\n",
        "    mlines.Line2D([], [], marker=\"s\", color=c, linestyle=\"None\", markersize=10)\n",
        "    for c in iso_colors\n",
        "]\n",
        "labels = [f\"{t} min\" for t in trip_times]\n",
        "fig.legend(\n",
        "    handles, labels,\n",
        "    title=\"Travel-time isochrones\",\n",
        "    ncol=len(trip_times),\n",
        "    loc=\"lower center\",\n",
        "    fontsize=12, title_fontsize=13\n",
        ")\n",
        "\n",
        "plt.tight_layout(rect=[0, 0.05, 1, 1])\n",
        "plt.show()"
      ],
      "metadata": {
        "id": "ApHhP18dRgxC"
      },
      "execution_count": null,
      "outputs": []
    },
    {
      "cell_type": "markdown",
      "source": [
        "## Regression"
      ],
      "metadata": {
        "id": "My8ZzS_PBnQv"
      }
    },
    {
      "cell_type": "code",
      "source": [
        "#Here we're summing together the ACS variables we pulled on industries to create our y-values\n",
        "\n",
        "#Creating a total manufacturing column with the male and female counts\n",
        "detroit_transportation['manufacturing_count']=detroit_transportation['male_manufacturing_count']+detroit_transportation['female_manufacturing_count']\n",
        "\n",
        "#Creating a total healthcare column with the male and female counts\n",
        "detroit_transportation['healthcare_count']=detroit_transportation['male_healthcare_count']+detroit_transportation['female_healthcare_count']\n",
        "\n",
        "#Creating a total finance column with the male and female counts\n",
        "detroit_transportation['finance_count']=detroit_transportation['male_finance_count']+detroit_transportation['female_finance_count']\n",
        "\n",
        "#Creating a total tech services column with the male and female counts\n",
        "detroit_transportation['tech_services_count']=detroit_transportation['male_tech_services_count']+detroit_transportation['female_tech_services_count']\n",
        "\n",
        "#Creating a total industry column with the male and female counts\n",
        "detroit_transportation['industry_count']=detroit_transportation['manufacturing_count']+detroit_transportation['healthcare_count']+detroit_transportation['finance_count']+detroit_transportation['tech_services_count']\n",
        "\n",
        "#Pct of working population in these industries\n",
        "detroit_transportation['industry_pct']=100*(detroit_transportation['industry_count']/detroit_transportation['employed_count'])\n",
        "\n",
        "#Pct white population\n",
        "detroit_transportation['white_pct']=100*(detroit_transportation['white_count']/detroit_transportation['total_count'])\n",
        "\n",
        "detroit_transportation=detroit_transportation[detroit_transportation['median_income']>0]\n"
      ],
      "metadata": {
        "id": "Jtiylq2IBqNG"
      },
      "execution_count": null,
      "outputs": []
    },
    {
      "cell_type": "code",
      "source": [
        "#Creating a new df for the regression with just our x and y variables + indentifing data. Dropping any nan values\n",
        "regression_df = detroit_transportation[['vehicle_pct', 'bus_pct', 'white_pct', 'industry_pct', 'median_income']].dropna()"
      ],
      "metadata": {
        "id": "9VDbdTOj9elp"
      },
      "execution_count": null,
      "outputs": []
    },
    {
      "cell_type": "markdown",
      "source": [
        "Before training a multivariate regression, we first created a multi-dimensional scattplot to illustrate the relationship of the percent of population with vehicles, percent of population using the bus for commutes, percent of population that is white alone, and the percent of the population that is working within the top Detroit industries."
      ],
      "metadata": {
        "id": "0waInvPNPXuP"
      }
    },
    {
      "cell_type": "code",
      "source": [
        "#Creating a 3-dimensional scatter plot to illustrate relationship of regression variables.\n",
        "\n",
        "fig=plt.figure(figsize=(10,7))\n",
        "ax=fig.add_subplot(111, projection='3d')\n",
        "\n",
        "#Variables to be used:\n",
        "x=regression_df['vehicle_pct']\n",
        "y=regression_df['industry_pct']\n",
        "z=regression_df['bus_pct']\n",
        "c=regression_df['white_pct']\n",
        "\n",
        "#This plot uses a colorbar to show the fourth dimension/variable\n",
        "graph= ax.scatter(x, y, z, c=c, cmap='magma')\n",
        "\n",
        "#Labeling each axis (and colorbar)\n",
        "ax.set_xlabel('Population with a vehicle %')\n",
        "ax.set_ylabel('Employed in top industries %')\n",
        "ax.set_zlabel('Commute using bus %')\n",
        "fig.colorbar(graph, label='White population %', pad=0.15)\n",
        "ax.zaxis.labelpad=2\n",
        "plt.title('Multivariable Transportation Analysis')\n",
        "plt.savefig('regression1.png')\n",
        "plt.show()"
      ],
      "metadata": {
        "id": "ByDrhvht_OZx"
      },
      "execution_count": null,
      "outputs": []
    },
    {
      "cell_type": "code",
      "source": [
        "#Training our multivariate regression\n",
        "#Given input list (x variables)\n",
        "input_vars = [\"vehicle_pct\", \"bus_pct\", \"white_pct\"]\n",
        "\n",
        "#Fitting variables to a linear regression\n",
        "X=regression_df[input_vars]\n",
        "y=regression_df['industry_pct']\n",
        "model=LinearRegression().fit(X,y)\n",
        "\n",
        "#Printing the coefficients for each x-variable\n",
        "for var_name, var_coef in zip(input_vars, model.coef_):\n",
        "    print(var_name+': '+str(round(var_coef, 2)))\n",
        "\n",
        "#Printing the intercept of the model\n",
        "print('intercept: '+str(round(model.intercept_, 2)))"
      ],
      "metadata": {
        "id": "KwXmOowyupCI"
      },
      "execution_count": null,
      "outputs": []
    },
    {
      "cell_type": "code",
      "source": [
        "#Creating a 3-dimensional scatter plot to illustrate relationship of regression variables.\n",
        "\n",
        "fig=plt.figure(figsize=(10,7))\n",
        "ax=fig.add_subplot(111, projection='3d')\n",
        "\n",
        "#Variables to be used:\n",
        "x=regression_df['vehicle_pct']\n",
        "y=regression_df['median_income']\n",
        "z=regression_df['bus_pct']\n",
        "c=regression_df['white_pct']\n",
        "#This plot uses a colorbar to show the fourth dimension/variable\n",
        "graph= ax.scatter(x, y, z, c=c, cmap=\"magma\")\n",
        "\n",
        "#Labeling each axis (and colorbar)\n",
        "ax.set_xlabel('Population with a vehicle %')\n",
        "ax.set_ylabel('Median income ($)')\n",
        "ax.set_zlabel('Commute using bus %')\n",
        "fig.colorbar(graph, label='White population %', pad=0.15)\n",
        "ax.zaxis.labelpad=2\n",
        "ax.set_yticks(np.arange(10000, y.max(), 10000))\n",
        "plt.title('Multivariable Transportation Analysis')\n",
        "plt.savefig('regression2.png')\n",
        "plt.show()"
      ],
      "metadata": {
        "id": "P5TR3CrxSkjl"
      },
      "execution_count": null,
      "outputs": []
    },
    {
      "cell_type": "code",
      "source": [
        "#Training our multivariate regression\n",
        "\n",
        "#Fitting variables to a linear regression\n",
        "X=regression_df[input_vars]\n",
        "y=regression_df['median_income']\n",
        "model=LinearRegression().fit(X,y)\n",
        "\n",
        "#Printing the coefficients for each x-variable\n",
        "for var_name, var_coef in zip(input_vars, model.coef_):\n",
        "    print(var_name+': '+str(round(var_coef, 2)))\n",
        "\n",
        "#Printing the intercept of the model\n",
        "print('intercept: '+str(round(model.intercept_, 2)))"
      ],
      "metadata": {
        "id": "GsO7KdLqWLDe"
      },
      "execution_count": null,
      "outputs": []
    }
  ],
  "metadata": {
    "colab": {
      "provenance": [],
      "collapsed_sections": [
        "lVPBGYPjJF3k",
        "DQRKwJuxJOX1",
        "fn_gJx7NJZC4",
        "-GaMY5_DlFXN",
        "YJxpgLd-lefv"
      ]
    },
    "kernelspec": {
      "display_name": "Python 3",
      "name": "python3"
    },
    "language_info": {
      "name": "python"
    }
  },
  "nbformat": 4,
  "nbformat_minor": 0
}